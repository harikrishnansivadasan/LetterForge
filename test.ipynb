{
 "cells": [
  {
   "cell_type": "code",
   "execution_count": 2,
   "id": "9d9b1f26",
   "metadata": {},
   "outputs": [
    {
     "name": "stdout",
     "output_type": "stream",
     "text": [
      "Collecting langchain-groq\n",
      "  Downloading langchain_groq-0.3.2-py3-none-any.whl.metadata (2.6 kB)\n",
      "Collecting langchain-core<1.0.0,>=0.3.49 (from langchain-groq)\n",
      "  Downloading langchain_core-0.3.60-py3-none-any.whl.metadata (5.8 kB)\n",
      "Collecting groq<1,>=0.4.1 (from langchain-groq)\n",
      "  Downloading groq-0.25.0-py3-none-any.whl.metadata (15 kB)\n",
      "Collecting anyio<5,>=3.5.0 (from groq<1,>=0.4.1->langchain-groq)\n",
      "  Downloading anyio-4.9.0-py3-none-any.whl.metadata (4.7 kB)\n",
      "Collecting distro<2,>=1.7.0 (from groq<1,>=0.4.1->langchain-groq)\n",
      "  Downloading distro-1.9.0-py3-none-any.whl.metadata (6.8 kB)\n",
      "Collecting httpx<1,>=0.23.0 (from groq<1,>=0.4.1->langchain-groq)\n",
      "  Downloading httpx-0.28.1-py3-none-any.whl.metadata (7.1 kB)\n",
      "Requirement already satisfied: pydantic<3,>=1.9.0 in c:\\users\\harikrishnan\\desktop\\b\\letterforge\\venv\\lib\\site-packages (from groq<1,>=0.4.1->langchain-groq) (2.11.4)\n",
      "Collecting sniffio (from groq<1,>=0.4.1->langchain-groq)\n",
      "  Downloading sniffio-1.3.1-py3-none-any.whl.metadata (3.9 kB)\n",
      "Requirement already satisfied: typing-extensions<5,>=4.10 in c:\\users\\harikrishnan\\desktop\\b\\letterforge\\venv\\lib\\site-packages (from groq<1,>=0.4.1->langchain-groq) (4.13.2)\n",
      "Collecting langsmith<0.4,>=0.1.126 (from langchain-core<1.0.0,>=0.3.49->langchain-groq)\n",
      "  Downloading langsmith-0.3.42-py3-none-any.whl.metadata (15 kB)\n",
      "Requirement already satisfied: tenacity!=8.4.0,<10.0.0,>=8.1.0 in c:\\users\\harikrishnan\\desktop\\b\\letterforge\\venv\\lib\\site-packages (from langchain-core<1.0.0,>=0.3.49->langchain-groq) (9.1.2)\n",
      "Collecting jsonpatch<2.0,>=1.33 (from langchain-core<1.0.0,>=0.3.49->langchain-groq)\n",
      "  Downloading jsonpatch-1.33-py2.py3-none-any.whl.metadata (3.0 kB)\n",
      "Collecting PyYAML>=5.3 (from langchain-core<1.0.0,>=0.3.49->langchain-groq)\n",
      "  Downloading PyYAML-6.0.2-cp312-cp312-win_amd64.whl.metadata (2.1 kB)\n",
      "Requirement already satisfied: packaging<25,>=23.2 in c:\\users\\harikrishnan\\desktop\\b\\letterforge\\venv\\lib\\site-packages (from langchain-core<1.0.0,>=0.3.49->langchain-groq) (24.2)\n",
      "Requirement already satisfied: idna>=2.8 in c:\\users\\harikrishnan\\desktop\\b\\letterforge\\venv\\lib\\site-packages (from anyio<5,>=3.5.0->groq<1,>=0.4.1->langchain-groq) (3.10)\n",
      "Requirement already satisfied: certifi in c:\\users\\harikrishnan\\desktop\\b\\letterforge\\venv\\lib\\site-packages (from httpx<1,>=0.23.0->groq<1,>=0.4.1->langchain-groq) (2025.4.26)\n",
      "Collecting httpcore==1.* (from httpx<1,>=0.23.0->groq<1,>=0.4.1->langchain-groq)\n",
      "  Downloading httpcore-1.0.9-py3-none-any.whl.metadata (21 kB)\n",
      "Collecting h11>=0.16 (from httpcore==1.*->httpx<1,>=0.23.0->groq<1,>=0.4.1->langchain-groq)\n",
      "  Downloading h11-0.16.0-py3-none-any.whl.metadata (8.3 kB)\n",
      "Collecting jsonpointer>=1.9 (from jsonpatch<2.0,>=1.33->langchain-core<1.0.0,>=0.3.49->langchain-groq)\n",
      "  Downloading jsonpointer-3.0.0-py2.py3-none-any.whl.metadata (2.3 kB)\n",
      "Collecting orjson<4.0.0,>=3.9.14 (from langsmith<0.4,>=0.1.126->langchain-core<1.0.0,>=0.3.49->langchain-groq)\n",
      "  Downloading orjson-3.10.18-cp312-cp312-win_amd64.whl.metadata (43 kB)\n",
      "     ---------------------------------------- 0.0/43.0 kB ? eta -:--:--\n",
      "     ---------------------------------------- 43.0/43.0 kB 1.1 MB/s eta 0:00:00\n",
      "Requirement already satisfied: requests<3,>=2 in c:\\users\\harikrishnan\\desktop\\b\\letterforge\\venv\\lib\\site-packages (from langsmith<0.4,>=0.1.126->langchain-core<1.0.0,>=0.3.49->langchain-groq) (2.32.3)\n",
      "Collecting requests-toolbelt<2.0.0,>=1.0.0 (from langsmith<0.4,>=0.1.126->langchain-core<1.0.0,>=0.3.49->langchain-groq)\n",
      "  Downloading requests_toolbelt-1.0.0-py2.py3-none-any.whl.metadata (14 kB)\n",
      "Collecting zstandard<0.24.0,>=0.23.0 (from langsmith<0.4,>=0.1.126->langchain-core<1.0.0,>=0.3.49->langchain-groq)\n",
      "  Downloading zstandard-0.23.0-cp312-cp312-win_amd64.whl.metadata (3.0 kB)\n",
      "Requirement already satisfied: annotated-types>=0.6.0 in c:\\users\\harikrishnan\\desktop\\b\\letterforge\\venv\\lib\\site-packages (from pydantic<3,>=1.9.0->groq<1,>=0.4.1->langchain-groq) (0.7.0)\n",
      "Requirement already satisfied: pydantic-core==2.33.2 in c:\\users\\harikrishnan\\desktop\\b\\letterforge\\venv\\lib\\site-packages (from pydantic<3,>=1.9.0->groq<1,>=0.4.1->langchain-groq) (2.33.2)\n",
      "Requirement already satisfied: typing-inspection>=0.4.0 in c:\\users\\harikrishnan\\desktop\\b\\letterforge\\venv\\lib\\site-packages (from pydantic<3,>=1.9.0->groq<1,>=0.4.1->langchain-groq) (0.4.0)\n",
      "Requirement already satisfied: charset-normalizer<4,>=2 in c:\\users\\harikrishnan\\desktop\\b\\letterforge\\venv\\lib\\site-packages (from requests<3,>=2->langsmith<0.4,>=0.1.126->langchain-core<1.0.0,>=0.3.49->langchain-groq) (3.4.2)\n",
      "Requirement already satisfied: urllib3<3,>=1.21.1 in c:\\users\\harikrishnan\\desktop\\b\\letterforge\\venv\\lib\\site-packages (from requests<3,>=2->langsmith<0.4,>=0.1.126->langchain-core<1.0.0,>=0.3.49->langchain-groq) (2.4.0)\n",
      "Downloading langchain_groq-0.3.2-py3-none-any.whl (15 kB)\n",
      "Downloading groq-0.25.0-py3-none-any.whl (129 kB)\n",
      "   ---------------------------------------- 0.0/129.4 kB ? eta -:--:--\n",
      "   ---------------------------------------- 129.4/129.4 kB 3.8 MB/s eta 0:00:00\n",
      "Downloading langchain_core-0.3.60-py3-none-any.whl (437 kB)\n",
      "   ---------------------------------------- 0.0/437.9 kB ? eta -:--:--\n",
      "   -------------- ------------------------- 153.6/437.9 kB 4.5 MB/s eta 0:00:01\n",
      "   --------------------------------- ------ 368.6/437.9 kB 4.6 MB/s eta 0:00:01\n",
      "   ---------------------------------------  430.1/437.9 kB 4.5 MB/s eta 0:00:01\n",
      "   ---------------------------------------- 437.9/437.9 kB 3.4 MB/s eta 0:00:00\n",
      "Downloading anyio-4.9.0-py3-none-any.whl (100 kB)\n",
      "   ---------------------------------------- 0.0/100.9 kB ? eta -:--:--\n",
      "   ---------------------------------------- 100.9/100.9 kB 2.9 MB/s eta 0:00:00\n",
      "Downloading distro-1.9.0-py3-none-any.whl (20 kB)\n",
      "Downloading httpx-0.28.1-py3-none-any.whl (73 kB)\n",
      "   ---------------------------------------- 0.0/73.5 kB ? eta -:--:--\n",
      "   ---------------------------------------- 0.0/73.5 kB ? eta -:--:--\n",
      "   ---------------------------------------- 0.0/73.5 kB ? eta -:--:--\n",
      "   ---------------------------------------- 73.5/73.5 kB 4.0 MB/s eta 0:00:00\n",
      "Downloading httpcore-1.0.9-py3-none-any.whl (78 kB)\n",
      "   ---------------------------------------- 0.0/78.8 kB ? eta -:--:--\n",
      "   ------------------------------------ --- 71.7/78.8 kB 2.0 MB/s eta 0:00:01\n",
      "   ---------------------------------------- 78.8/78.8 kB 1.5 MB/s eta 0:00:00\n",
      "Downloading jsonpatch-1.33-py2.py3-none-any.whl (12 kB)\n",
      "Downloading langsmith-0.3.42-py3-none-any.whl (360 kB)\n",
      "   ---------------------------------------- 0.0/360.3 kB ? eta -:--:--\n",
      "   --------------------------------------  358.4/360.3 kB 11.2 MB/s eta 0:00:01\n",
      "   --------------------------------------  358.4/360.3 kB 11.2 MB/s eta 0:00:01\n",
      "   ---------------------------------------- 360.3/360.3 kB 3.7 MB/s eta 0:00:00\n",
      "Downloading PyYAML-6.0.2-cp312-cp312-win_amd64.whl (156 kB)\n",
      "   ---------------------------------------- 0.0/156.3 kB ? eta -:--:--\n",
      "   ---------------------------------------  153.6/156.3 kB 9.6 MB/s eta 0:00:01\n",
      "   ---------------------------------------- 156.3/156.3 kB 3.1 MB/s eta 0:00:00\n",
      "Downloading sniffio-1.3.1-py3-none-any.whl (10 kB)\n",
      "Downloading jsonpointer-3.0.0-py2.py3-none-any.whl (7.6 kB)\n",
      "Downloading orjson-3.10.18-cp312-cp312-win_amd64.whl (134 kB)\n",
      "   ---------------------------------------- 0.0/134.8 kB ? eta -:--:--\n",
      "   ---------------------------------------  133.1/134.8 kB 7.7 MB/s eta 0:00:01\n",
      "   ---------------------------------------- 134.8/134.8 kB 2.6 MB/s eta 0:00:00\n",
      "Downloading requests_toolbelt-1.0.0-py2.py3-none-any.whl (54 kB)\n",
      "   ---------------------------------------- 0.0/54.5 kB ? eta -:--:--\n",
      "   ---------------------------------------- 54.5/54.5 kB 1.4 MB/s eta 0:00:00\n",
      "Downloading zstandard-0.23.0-cp312-cp312-win_amd64.whl (495 kB)\n",
      "   ---------------------------------------- 0.0/495.6 kB ? eta -:--:--\n",
      "   -------------------- ------------------- 256.0/495.6 kB 5.2 MB/s eta 0:00:01\n",
      "   ---------------------------------------  491.5/495.6 kB 5.1 MB/s eta 0:00:01\n",
      "   ---------------------------------------  491.5/495.6 kB 5.1 MB/s eta 0:00:01\n",
      "   ---------------------------------------- 495.6/495.6 kB 3.1 MB/s eta 0:00:00\n",
      "Downloading h11-0.16.0-py3-none-any.whl (37 kB)\n",
      "Installing collected packages: zstandard, sniffio, PyYAML, orjson, jsonpointer, h11, distro, requests-toolbelt, jsonpatch, httpcore, anyio, httpx, langsmith, groq, langchain-core, langchain-groq\n",
      "Successfully installed PyYAML-6.0.2 anyio-4.9.0 distro-1.9.0 groq-0.25.0 h11-0.16.0 httpcore-1.0.9 httpx-0.28.1 jsonpatch-1.33 jsonpointer-3.0.0 langchain-core-0.3.60 langchain-groq-0.3.2 langsmith-0.3.42 orjson-3.10.18 requests-toolbelt-1.0.0 sniffio-1.3.1 zstandard-0.23.0\n",
      "Note: you may need to restart the kernel to use updated packages.\n"
     ]
    },
    {
     "name": "stderr",
     "output_type": "stream",
     "text": [
      "\n",
      "[notice] A new release of pip is available: 24.0 -> 25.1.1\n",
      "[notice] To update, run: python.exe -m pip install --upgrade pip\n"
     ]
    }
   ],
   "source": [
    "pip install langchain-groq\n"
   ]
  },
  {
   "cell_type": "code",
   "execution_count": 4,
   "id": "3e5c3d42",
   "metadata": {},
   "outputs": [
    {
     "name": "stdout",
     "output_type": "stream",
     "text": [
      "Collecting python-dotenv\n",
      "  Downloading python_dotenv-1.1.0-py3-none-any.whl.metadata (24 kB)\n",
      "Downloading python_dotenv-1.1.0-py3-none-any.whl (20 kB)\n",
      "Installing collected packages: python-dotenv\n",
      "Successfully installed python-dotenv-1.1.0\n",
      "Note: you may need to restart the kernel to use updated packages.\n"
     ]
    },
    {
     "name": "stderr",
     "output_type": "stream",
     "text": [
      "\n",
      "[notice] A new release of pip is available: 24.0 -> 25.1.1\n",
      "[notice] To update, run: python.exe -m pip install --upgrade pip\n"
     ]
    }
   ],
   "source": [
    "pip install python-dotenv\n"
   ]
  },
  {
   "cell_type": "code",
   "execution_count": 5,
   "id": "183db186",
   "metadata": {},
   "outputs": [],
   "source": [
    "from langchain_groq import ChatGroq\n",
    "from dotenv import load_dotenv"
   ]
  },
  {
   "cell_type": "code",
   "execution_count": 6,
   "id": "559a42fb",
   "metadata": {},
   "outputs": [
    {
     "data": {
      "text/plain": [
       "True"
      ]
     },
     "execution_count": 6,
     "metadata": {},
     "output_type": "execute_result"
    }
   ],
   "source": [
    "load_dotenv()"
   ]
  },
  {
   "cell_type": "code",
   "execution_count": 7,
   "id": "b913e477",
   "metadata": {},
   "outputs": [],
   "source": [
    "from langchain_core.prompts import ChatPromptTemplate"
   ]
  },
  {
   "cell_type": "code",
   "execution_count": 8,
   "id": "fd94ab58",
   "metadata": {},
   "outputs": [],
   "source": [
    "llm = ChatGroq(model=\"llama-3.3-70b-versatile\", max_tokens=2000)"
   ]
  },
  {
   "cell_type": "code",
   "execution_count": 9,
   "id": "8c98c29b",
   "metadata": {},
   "outputs": [],
   "source": [
    "prompt_template = \"\"\"\n",
    "        You are tasked with parsing a resume. Your objective is to extract relevant information in a valid structured 'JSON' format. Do not write explanations or any other preambles, do not add or write anything out of context, use only the given information.\n",
    "\n",
    "        **Task:** Extract key information from the following resume text, especially Skills, Experience, Education.\n",
    "\n",
    "        **Resume Text:**\n",
    "        {text}\n",
    "\n",
    "        **Instructions:**\n",
    "        Please extract the following information and format it in a clear structure as below. Assure to maintain these fields intact (do not change the case to lower):\n",
    "\n",
    "        1. **Contact Information:**\n",
    "        - Name:        \n",
    "\n",
    "        2. **Education:**\n",
    "        - Institution Name:\n",
    "        - Degree:\n",
    "        - Field of Study:\n",
    "        - Graduation Date:\n",
    "\n",
    "        3. **Experience:**\n",
    "        - Job Title:        \n",
    "        - Responsibilities/Projects:\n",
    "\n",
    "        4. **Projects:**\n",
    "        - Project Title:\n",
    "        - Description/Technologies Used:\n",
    "        - Outcomes/Results:\n",
    "\n",
    "        5. **Skills:**\n",
    "        - Programming Languages:\n",
    "        - Technologies/Tools/frameworks:\n",
    "\n",
    "        6. **Additional Information:** (if applicable)\n",
    "        - Certifications:\n",
    "        - Awards or Honors:\n",
    "        - Professional Affiliations:       \n",
    "        \n",
    "        strictly return in json dictionary format \n",
    "        \n",
    "        \"\"\""
   ]
  },
  {
   "cell_type": "code",
   "execution_count": 10,
   "id": "6ebe2433",
   "metadata": {},
   "outputs": [],
   "source": [
    "prompt = ChatPromptTemplate.from_template(prompt_template)"
   ]
  },
  {
   "cell_type": "code",
   "execution_count": 14,
   "id": "0527d69c",
   "metadata": {},
   "outputs": [],
   "source": [
    "import re"
   ]
  },
  {
   "cell_type": "code",
   "execution_count": 12,
   "id": "a734c533",
   "metadata": {},
   "outputs": [],
   "source": [
    "def parsed_resume_skils(\n",
    "    text,\n",
    "    prompt_template,\n",
    "    llm,\n",
    "):\n",
    "\n",
    "    prompt = ChatPromptTemplate.from_template(prompt_template)\n",
    "\n",
    "    formatted_prompt = prompt.format(text=text)\n",
    "\n",
    "    response = llm.invoke(formatted_prompt)\n",
    "\n",
    "    parsed_data = response.content\n",
    "\n",
    "    cleaned = re.sub(r\"^```json|```$\", \"\", parsed_data.strip(), flags=re.MULTILINE)\n",
    "    dict_parsed_data = json.loads(cleaned)\n",
    "\n",
    "    skill_dics = dict_parsed_data[\"skills\"]\n",
    "\n",
    "    return skill_dics"
   ]
  },
  {
   "cell_type": "code",
   "execution_count": 13,
   "id": "9a2e37c2",
   "metadata": {},
   "outputs": [],
   "source": [
    "def parse_resume(text):\n",
    "    formatted_prompt = prompt.format(text=text)\n",
    "\n",
    "    response = llm.invoke(formatted_prompt)\n",
    "\n",
    "    return response.content"
   ]
  },
  {
   "cell_type": "code",
   "execution_count": 15,
   "id": "39ff1c74",
   "metadata": {},
   "outputs": [],
   "source": [
    "text=\"\"\"Brief Description\n",
    "We are looking for a highly motivated Management Trainee with strong analytical and problem-solving skills to join our night shift team. This is a 3-month contract role designed to provide hands-on experience in business operations and data-driven decision-making. High-performing candidates may be offered a permanent position based on performance.\n",
    "\n",
    "Key Responsibilities:\n",
    "Analyze operational data to identify trends, gaps, and areas for improvement.\n",
    "Prepare daily/weekly reports and dashboards for internal stakeholders.\n",
    "Support night shift operations by monitoring process metrics and ensuring smooth workflows.\n",
    "Collaborate with team leads to streamline processes and implement improvements.\n",
    "Document procedures, SOP's, and maintain data accuracy.\n",
    "Assist in ad hoc tasks and projects related to data and performance analysis.\n",
    "Show Less...\n",
    "Preferred Skills\n",
    "Bachelor's degree in Business, Commerce, Economics, or a related field.\n",
    "Strong analytical and logical reasoning skills.\n",
    "Proficient in MS Excel; basic understanding of tools like Power BI or Google Sheets is a plus.\n",
    "Excellent attention to detail and accuracy in reporting.\n",
    "Effective communication skills and a collaborative mindset.\n",
    "Willingness to work night shifts and deliver under minimal supervision.\n",
    "Quick learner with a performance-driven attitude.\n",
    "Should be able to join immediately\"\"\""
   ]
  },
  {
   "cell_type": "code",
   "execution_count": 16,
   "id": "b1dbb6e9",
   "metadata": {},
   "outputs": [],
   "source": [
    "persed_resume = parse_resume(text)"
   ]
  },
  {
   "cell_type": "code",
   "execution_count": 18,
   "id": "679a7f7f",
   "metadata": {},
   "outputs": [
    {
     "name": "stdout",
     "output_type": "stream",
     "text": [
      "```\n",
      "{\n",
      "  \"Contact Information\": {\n",
      "    \"Name\": \"\"\n",
      "  },\n",
      "  \"Education\": {\n",
      "    \"Institution Name\": \"\",\n",
      "    \"Degree\": \"Bachelor's degree\",\n",
      "    \"Field of Study\": \"Business, Commerce, Economics, or a related field\",\n",
      "    \"Graduation Date\": \"\"\n",
      "  },\n",
      "  \"Experience\": {\n",
      "    \"Job Title\": \"Management Trainee\",\n",
      "    \"Responsibilities/Projects\": [\n",
      "      \"Analyze operational data to identify trends, gaps, and areas for improvement\",\n",
      "      \"Prepare daily/weekly reports and dashboards for internal stakeholders\",\n",
      "      \"Support night shift operations by monitoring process metrics and ensuring smooth workflows\",\n",
      "      \"Collaborate with team leads to streamline processes and implement improvements\",\n",
      "      \"Document procedures, SOP's, and maintain data accuracy\",\n",
      "      \"Assist in ad hoc tasks and projects related to data and performance analysis\"\n",
      "    ]\n",
      "  },\n",
      "  \"Projects\": {\n",
      "    \"Project Title\": \"\",\n",
      "    \"Description/Technologies Used\": \"\",\n",
      "    \"Outcomes/Results\": \"\"\n",
      "  },\n",
      "  \"Skills\": {\n",
      "    \"Programming Languages\": \"\",\n",
      "    \"Technologies/Tools/frameworks\": [\n",
      "      \"MS Excel\",\n",
      "      \"Power BI\",\n",
      "      \"Google Sheets\"\n",
      "    ]\n",
      "  },\n",
      "  \"Additional Information\": {\n",
      "    \"Certifications\": \"\",\n",
      "    \"Awards or Honors\": \"\",\n",
      "    \"Professional Affiliations\": \"\"\n",
      "  }\n",
      "}\n",
      "```\n"
     ]
    }
   ],
   "source": [
    "print(persed_resume)"
   ]
  },
  {
   "cell_type": "code",
   "execution_count": 20,
   "id": "9d5a9ff6",
   "metadata": {},
   "outputs": [],
   "source": [
    "import docx2txt"
   ]
  },
  {
   "cell_type": "code",
   "execution_count": null,
   "id": "b144e07e",
   "metadata": {},
   "outputs": [],
   "source": []
  },
  {
   "cell_type": "code",
   "execution_count": null,
   "id": "c90e2112",
   "metadata": {},
   "outputs": [],
   "source": []
  },
  {
   "cell_type": "code",
   "execution_count": null,
   "id": "7bb81b98",
   "metadata": {},
   "outputs": [],
   "source": []
  }
 ],
 "metadata": {
  "kernelspec": {
   "display_name": "venv",
   "language": "python",
   "name": "python3"
  },
  "language_info": {
   "codemirror_mode": {
    "name": "ipython",
    "version": 3
   },
   "file_extension": ".py",
   "mimetype": "text/x-python",
   "name": "python",
   "nbconvert_exporter": "python",
   "pygments_lexer": "ipython3",
   "version": "3.12.3"
  }
 },
 "nbformat": 4,
 "nbformat_minor": 5
}
